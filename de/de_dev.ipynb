{
 "cells": [
  {
   "cell_type": "code",
   "execution_count": null,
   "metadata": {},
   "outputs": [],
   "source": [
    "# !pip install PyMuPDF\n",
    "# !pip install langchain-community"
   ]
  },
  {
   "cell_type": "code",
   "execution_count": 11,
   "metadata": {},
   "outputs": [],
   "source": [
    "from langchain_community.document_loaders import PyMuPDFLoader\n",
    "import os"
   ]
  },
  {
   "cell_type": "markdown",
   "metadata": {},
   "source": [
    "### Bronze to Silver0"
   ]
  },
  {
   "cell_type": "code",
   "execution_count": 6,
   "metadata": {},
   "outputs": [
    {
     "name": "stdout",
     "output_type": "stream",
     "text": [
      "['plano-acao-adaptacao-climatica-nacional.pdf', 'plano-acao-climatica-agro.pdf', 'plano-acao-climatica-curitiba.pdf', 'plano-acao-climatica-federal.pdf', 'plano-acao-climatica-itabirito.pdf', 'plano-acao-climatica-joao-pessoa.pdf', 'plano-acao-climatica-sp-regiao.pdf', 'plano-enfrentamento-mudanca-climatica-nacional.pdf']\n"
     ]
    }
   ],
   "source": [
    "def list_files_in_directory(directory_path):\n",
    "    # List only files (not directories)\n",
    "    return [file for file in os.listdir(directory_path) if os.path.isfile(os.path.join(directory_path, file))]\n",
    "\n",
    "def pdf_to_txt(file_name):\n",
    "    loader = PyMuPDFLoader(bronze_path + file_name)\n",
    "    # here we have a class with metadata\n",
    "    data = loader.load()\n",
    "\n",
    "    # this way we get all the text of the pdf in just 1 string\n",
    "    text = ''\n",
    "    for i in range(len(data)):\n",
    "        text = text + data[i].page_content\n",
    "\n",
    "    silver_path = f'../medallion/silver0/{file_name[:-4]}.txt'\n",
    "\n",
    "    with open(silver_path, 'w', encoding='utf-8') as file:\n",
    "        file.write(text)"
   ]
  },
  {
   "cell_type": "code",
   "execution_count": 42,
   "metadata": {},
   "outputs": [],
   "source": [
    "# here we transfer from Bronze to Silver0\n",
    "bronze_path = '../medallion/bronze/'\n",
    "file_list = list_files_in_directory(bronze_path)\n",
    "\n",
    "for file in file_list:\n",
    "    pdf_to_txt(file)"
   ]
  },
  {
   "cell_type": "markdown",
   "metadata": {},
   "source": [
    "### Silver0"
   ]
  },
  {
   "cell_type": "code",
   "execution_count": 45,
   "metadata": {},
   "outputs": [
    {
     "data": {
      "text/plain": [
       "['plano-acao-adaptacao-climatica-nacional.txt',\n",
       " 'plano-acao-climatica-agro.txt',\n",
       " 'plano-acao-climatica-curitiba.txt',\n",
       " 'plano-acao-climatica-federal.txt',\n",
       " 'plano-acao-climatica-itabirito.txt',\n",
       " 'plano-acao-climatica-joao-pessoa.txt',\n",
       " 'plano-acao-climatica-sp-regiao.txt',\n",
       " 'plano-enfrentamento-mudanca-climatica-nacional.txt']"
      ]
     },
     "execution_count": 45,
     "metadata": {},
     "output_type": "execute_result"
    }
   ],
   "source": [
    "silver0_path = '../medallion/silver0/'\n",
    "list_files_in_directory(silver0_path)"
   ]
  },
  {
   "cell_type": "code",
   "execution_count": null,
   "metadata": {},
   "outputs": [],
   "source": [
    "def read_and_convert_to_lowercase(filename):\n",
    "    # Open the file in read mode with UTF-8 encoding\n",
    "    with open(filename, 'r', encoding='utf-8') as file:\n",
    "        content = file.read()\n",
    "    \n",
    "    # Convert the content to lowercase\n",
    "    lowercase_content = content.lower()\n",
    "    \n",
    "    return lowercase_content\n",
    "\n",
    "# Example usage\n",
    "filename = 'input.txt'\n",
    "lowercase_content = read_and_convert_to_lowercase(filename)"
   ]
  }
 ],
 "metadata": {
  "kernelspec": {
   "display_name": "tresnove",
   "language": "python",
   "name": "python3"
  },
  "language_info": {
   "codemirror_mode": {
    "name": "ipython",
    "version": 3
   },
   "file_extension": ".py",
   "mimetype": "text/x-python",
   "name": "python",
   "nbconvert_exporter": "python",
   "pygments_lexer": "ipython3",
   "version": "3.9.13"
  }
 },
 "nbformat": 4,
 "nbformat_minor": 2
}
